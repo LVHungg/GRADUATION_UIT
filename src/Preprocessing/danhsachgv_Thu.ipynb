{
 "cells": [
  {
   "cell_type": "markdown",
   "metadata": {},
   "source": [
    "# Import Module"
   ]
  },
  {
   "cell_type": "code",
   "execution_count": null,
   "metadata": {},
   "outputs": [],
   "source": [
    "import pandas as pd\n",
    "import numpy as np\n",
    "\n",
    "import os"
   ]
  },
  {
   "cell_type": "markdown",
   "metadata": {},
   "source": [
    "# Pre-processing function"
   ]
  },
  {
   "cell_type": "markdown",
   "metadata": {},
   "source": [
    "# Connect to data: danhsachgv"
   ]
  },
  {
   "cell_type": "code",
   "execution_count": null,
   "metadata": {},
   "outputs": [],
   "source": [
    "# Đường dẫn tương đối từ vị trí hiện tại của notebook đến thư mục 'data'\n",
    "data_dir = os.path.join(os.path.dirname(os.path.dirname(os.getcwd())), 'data')\n",
    "\n",
    "# Đường dẫn đến file Excel\n",
    "excel_file_path = os.path.join(data_dir, 'danhsachgv_Thu.xlsx')\n",
    "\n",
    "# Kiểm tra xem file có tồn tại hay không\n",
    "if not os.path.exists(data_dir):\n",
    "    print(f\"Thư mục '{data_dir}' không tồn tại.\")\n",
    "elif not os.path.exists(excel_file_path):\n",
    "    print(f\"Tệp '{excel_file_path}' không tồn tại.\")\n",
    "else:\n",
    "    # Tải dữ liệu từ tệp Excel\n",
    "    df = pd.read_excel(excel_file_path)\n",
    "    print(\"Dữ liệu đã được tải thành công:\")\n",
    "    print(df.head())"
   ]
  }
 ],
 "metadata": {
  "kernelspec": {
   "display_name": "Python 3",
   "language": "python",
   "name": "python3"
  },
  "language_info": {
   "codemirror_mode": {
    "name": "ipython",
    "version": 3
   },
   "file_extension": ".py",
   "mimetype": "text/x-python",
   "name": "python",
   "nbconvert_exporter": "python",
   "pygments_lexer": "ipython3",
   "version": "3.12.0"
  }
 },
 "nbformat": 4,
 "nbformat_minor": 2
}
