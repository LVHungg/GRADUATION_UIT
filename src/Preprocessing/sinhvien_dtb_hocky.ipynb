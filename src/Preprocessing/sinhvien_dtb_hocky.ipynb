{
 "cells": [
  {
   "cell_type": "markdown",
   "metadata": {},
   "source": [
    "# Import Module"
   ]
  },
  {
   "cell_type": "code",
   "execution_count": 1,
   "metadata": {},
   "outputs": [],
   "source": [
    "import pandas as pd\n",
    "import numpy as np\n",
    "\n",
    "import os"
   ]
  },
  {
   "cell_type": "markdown",
   "metadata": {},
   "source": [
    "# Pre-processing Function"
   ]
  },
  {
   "cell_type": "markdown",
   "metadata": {},
   "source": [
    "# Connect Data: sinhvien_dtb_hocky"
   ]
  },
  {
   "cell_type": "code",
   "execution_count": 14,
   "metadata": {},
   "outputs": [
    {
     "name": "stdout",
     "output_type": "stream",
     "text": [
      "Dữ liệu đã được tải thành công:\n",
      "<class 'pandas.core.frame.DataFrame'>\n",
      "RangeIndex: 84952 entries, 0 to 84951\n",
      "Data columns (total 5 columns):\n",
      " #   Column  Non-Null Count  Dtype  \n",
      "---  ------  --------------  -----  \n",
      " 0   masv    84952 non-null  int64  \n",
      " 1   hocky   84952 non-null  int64  \n",
      " 2   namhoc  84952 non-null  int64  \n",
      " 3   dtbhk   84952 non-null  float64\n",
      " 4   sotchk  84952 non-null  int64  \n",
      "dtypes: float64(1), int64(4)\n",
      "memory usage: 3.2 MB\n",
      "None\n"
     ]
    },
    {
     "data": {
      "text/html": [
       "<div>\n",
       "<style scoped>\n",
       "    .dataframe tbody tr th:only-of-type {\n",
       "        vertical-align: middle;\n",
       "    }\n",
       "\n",
       "    .dataframe tbody tr th {\n",
       "        vertical-align: top;\n",
       "    }\n",
       "\n",
       "    .dataframe thead th {\n",
       "        text-align: right;\n",
       "    }\n",
       "</style>\n",
       "<table border=\"1\" class=\"dataframe\">\n",
       "  <thead>\n",
       "    <tr style=\"text-align: right;\">\n",
       "      <th></th>\n",
       "      <th>masv</th>\n",
       "      <th>hocky</th>\n",
       "      <th>namhoc</th>\n",
       "      <th>dtbhk</th>\n",
       "      <th>sotchk</th>\n",
       "    </tr>\n",
       "  </thead>\n",
       "  <tbody>\n",
       "    <tr>\n",
       "      <th>0</th>\n",
       "      <td>16520002</td>\n",
       "      <td>1</td>\n",
       "      <td>2016</td>\n",
       "      <td>6.45</td>\n",
       "      <td>13</td>\n",
       "    </tr>\n",
       "    <tr>\n",
       "      <th>1</th>\n",
       "      <td>16520002</td>\n",
       "      <td>2</td>\n",
       "      <td>2016</td>\n",
       "      <td>5.86</td>\n",
       "      <td>17</td>\n",
       "    </tr>\n",
       "    <tr>\n",
       "      <th>2</th>\n",
       "      <td>16520002</td>\n",
       "      <td>1</td>\n",
       "      <td>2017</td>\n",
       "      <td>6.54</td>\n",
       "      <td>16</td>\n",
       "    </tr>\n",
       "    <tr>\n",
       "      <th>3</th>\n",
       "      <td>16520002</td>\n",
       "      <td>2</td>\n",
       "      <td>2017</td>\n",
       "      <td>5.67</td>\n",
       "      <td>23</td>\n",
       "    </tr>\n",
       "    <tr>\n",
       "      <th>4</th>\n",
       "      <td>16520002</td>\n",
       "      <td>1</td>\n",
       "      <td>2018</td>\n",
       "      <td>2.27</td>\n",
       "      <td>21</td>\n",
       "    </tr>\n",
       "  </tbody>\n",
       "</table>\n",
       "</div>"
      ],
      "text/plain": [
       "       masv  hocky  namhoc  dtbhk  sotchk\n",
       "0  16520002      1    2016   6.45      13\n",
       "1  16520002      2    2016   5.86      17\n",
       "2  16520002      1    2017   6.54      16\n",
       "3  16520002      2    2017   5.67      23\n",
       "4  16520002      1    2018   2.27      21"
      ]
     },
     "metadata": {},
     "output_type": "display_data"
    }
   ],
   "source": [
    "# Đường dẫn tương đối từ vị trí hiện tại của notebook đến thư mục 'data'\n",
    "data_dir = os.path.join(os.path.dirname(os.path.dirname(os.getcwd())), 'data')\n",
    "\n",
    "# Đường dẫn đến file Excel\n",
    "excel_file_path = os.path.join(data_dir, 'sinhvien_dtb_hocky.xlsx')\n",
    "\n",
    "# Kiểm tra xem file có tồn tại hay không\n",
    "if not os.path.exists(data_dir):\n",
    "    print(f\"Thư mục '{data_dir}' không tồn tại.\")\n",
    "elif not os.path.exists(excel_file_path):\n",
    "    print(f\"Tệp '{excel_file_path}' không tồn tại.\")\n",
    "else:\n",
    "    # Tải dữ liệu từ tệp Excel\n",
    "    df = pd.read_excel(excel_file_path)\n",
    "    print(\"Dữ liệu đã được tải thành công:\")\n",
    "    print(df.info())\n",
    "    display(df.head())"
   ]
  },
  {
   "cell_type": "markdown",
   "metadata": {},
   "source": [
    "# Save data: ver_1"
   ]
  },
  {
   "cell_type": "code",
   "execution_count": 16,
   "metadata": {},
   "outputs": [
    {
     "name": "stdout",
     "output_type": "stream",
     "text": [
      "DataFrame đã được lưu vào 'c:\\Users\\levan\\GRADUATION_UIT\\data\\ver_1\\students_average_score_sem.csv'\n"
     ]
    }
   ],
   "source": [
    "# Đường dẫn thư mục đã tạo sẵn\n",
    "folder_path = os.path.join(os.path.dirname(os.path.dirname(os.getcwd())), 'data', 'ver_1')\n",
    "\n",
    "# Kiểm tra xem thư mục có tồn tại hay không\n",
    "if not os.path.exists(folder_path):\n",
    "    print(f\"Thư mục '{folder_path}' không tồn tại.\")\n",
    "else:\n",
    "    # Lưu DataFrame vào file CSV trong thư mục 'ver_1'\n",
    "    file_path = os.path.join(folder_path, 'students_average_score_sem.csv')\n",
    "    df.to_csv(file_path, index=False)\n",
    "    print(f\"DataFrame đã được lưu vào '{file_path}'\")"
   ]
  }
 ],
 "metadata": {
  "kernelspec": {
   "display_name": "Python 3",
   "language": "python",
   "name": "python3"
  },
  "language_info": {
   "codemirror_mode": {
    "name": "ipython",
    "version": 3
   },
   "file_extension": ".py",
   "mimetype": "text/x-python",
   "name": "python",
   "nbconvert_exporter": "python",
   "pygments_lexer": "ipython3",
   "version": "3.12.0"
  }
 },
 "nbformat": 4,
 "nbformat_minor": 2
}
