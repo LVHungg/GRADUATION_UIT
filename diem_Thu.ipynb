{
 "cells": [
  {
   "cell_type": "code",
   "execution_count": 1,
   "metadata": {},
   "outputs": [],
   "source": [
    "import pandas as pd\n",
    "import numpy as np\n",
    "\n",
    "import os"
   ]
  },
  {
   "cell_type": "code",
   "execution_count": 2,
   "metadata": {},
   "outputs": [],
   "source": [
    "# Thiết lập tùy chọn hiển thị của pandas\n",
    "pd.set_option('display.max_columns', None)  # Hiển thị tất cả các cột\n",
    "pd.set_option('display.max_rows', None)     # Hiển thị tất cả các hàng\n",
    "\n",
    "# Đặt lại tùy chọn hiển thị về giá trị mặc định nếu cần\n",
    "# pd.reset_option('display.max_columns')\n",
    "# pd.reset_option('display.max_rows')"
   ]
  },
  {
   "cell_type": "code",
   "execution_count": 3,
   "metadata": {},
   "outputs": [],
   "source": [
    "def check_missing_data(df, columns):\n",
    "    \"\"\"\n",
    "    Kiểm tra dữ liệu bị thiếu trong các cột được chỉ định của DataFrame.\n",
    "    Parameters:\n",
    "        df (DataFrame): DataFrame chứa dữ liệu.\n",
    "        columns (list): Danh sách tên các cột cần kiểm tra.\n",
    "    Returns:\n",
    "        DataFrame: DataFrame chứa các dòng dữ liệu có dữ liệu bị thiếu trong các cột được chỉ định.\n",
    "    \"\"\"\n",
    "    missing_data = df[df[columns].isnull().any(axis=1)]\n",
    "    if missing_data.empty:\n",
    "        print(\"Không có dữ liệu bị thiếu trong các cột:\", \", \".join(columns))\n",
    "    else:\n",
    "        print(\"Số lượng dòng dữ liệu bị thiếu trong các cột\", \", \".join(columns), \"là:\", missing_data.shape[0])\n",
    "        print(\"Các dòng dữ liệu bị thiếu trong các cột\", \", \".join(columns), \"là:\")\n",
    "        # print(missing_data)\n",
    "    return missing_data\n",
    "\n",
    "def check_duplicate_data(df):\n",
    "    \"\"\"\n",
    "    Hàm để kiểm tra và theo dõi dữ liệu trùng lặp trong DataFrame.\n",
    "\n",
    "    Parameters:\n",
    "        df (DataFrame): DataFrame chứa dữ liệu.\n",
    "\n",
    "    Returns:\n",
    "        DataFrame: DataFrame chứa các dòng dữ liệu trùng lặp.\n",
    "    \"\"\"\n",
    "    # Kiểm tra dữ liệu trùng lặp\n",
    "    duplicate_data = df[df.duplicated()]\n",
    "\n",
    "    # In thông báo nếu không có dữ liệu trùng lặp\n",
    "    if duplicate_data.empty:\n",
    "        print(\"Không có dữ liệu trùng lặp.\")\n",
    "    else:\n",
    "      print(\"Những dữ liệu trùng lặp: \", duplicate_data)\n",
    "    return duplicate_data\n",
    "\n",
    "\n",
    "def count_date_formats(df, column, print_result=False):\n",
    "    \"\"\"\n",
    "    Hàm để kiểm tra và theo dõi số lượng định dạng của dữ liệu ngày tháng trong một cột.\n",
    "\n",
    "    Parameters:\n",
    "        df (DataFrame): DataFrame chứa dữ liệu.\n",
    "        column (str): Tên của cột cần kiểm tra.\n",
    "        print_result (bool, optional): True nếu muốn in kết quả ra màn hình, False nếu không (mặc định là False).\n",
    "\n",
    "    Returns:\n",
    "        dict: Một từ điển với các định dạng ngày tháng làm khóa và số lượng dòng có mỗi định dạng làm giá trị.\n",
    "    \"\"\"\n",
    "    # Chuyển đổi các giá trị của cột thành chuỗi định dạng ngày tháng\n",
    "    date_strings = df[column].apply(lambda x: x.strftime('%d/%m/%Y') if isinstance(x, pd.Timestamp) else x)\n",
    "\n",
    "    # Đếm số lượng giá trị duy nhất cho mỗi định dạng ngày tháng\n",
    "    format_counts = date_strings.value_counts()\n",
    "\n",
    "    # Chuyển đổi kết quả thành từ điển\n",
    "    format_counts_dict = format_counts.to_dict()\n",
    "\n",
    "    # In kết quả nếu cần\n",
    "    if print_result:\n",
    "        print(\"Số lượng định dạng của dữ liệu ngày tháng:\")\n",
    "        for format, count in format_counts_dict.items():\n",
    "            print(f\"{format}: {count} dòng\")\n",
    "\n",
    "    return format_counts_dict\n",
    "\n",
    "def score_labeling(df, column_name, bins=[0, 4, 5, 6, 7, 8, 9, 10], labels=['kém', 'yếu', 'trung bình', 'trung bình khá', 'khá', 'giỏi', 'xuất sắc']):\n",
    "    \"\"\"\n",
    "    Hàm để chuyển điểm thành biến phân loại kết quả học tập và trả về cột mới.\n",
    "\n",
    "    Parameters:\n",
    "        df (DataFrame): DataFrame chứa dữ liệu.\n",
    "        column_name (str): Tên cột chứa điểm cần phân loại.\n",
    "        bins (list): Danh sách khoảng giá trị cho biến phân loại. Mặc định là [0, 4, 5, 6, 7, 8, 9, 10].\n",
    "        labels (list): Danh sách nhãn cho các khoảng giá trị. Mặc định là ['kém', 'yếu', 'trung bình', 'trung bình khá', 'khá', 'giỏi', 'xuất sắc'].\n",
    "\n",
    "    Returns:\n",
    "        Series: Cột mới chứa biến phân loại.\n",
    "    \"\"\"\n",
    "    # Thêm cột mới vào DataFrame chứa biến phân loại\n",
    "    df['{}_xl'.format(column_name)] = pd.cut(df[column_name], bins=bins, labels=labels, right=False)\n",
    "    return df['{}_xl'.format(column_name)]"
   ]
  },
  {
   "cell_type": "markdown",
   "metadata": {},
   "source": [
    "## Data Quality Rules\n"
   ]
  },
  {
   "cell_type": "code",
   "execution_count": 24,
   "metadata": {},
   "outputs": [],
   "source": [
    "# Hàm đánh giá tính duy nhất (Uniqueness) cho toàn bộ dòng dữ liệu\n",
    "def check_uniqueness(df):\n",
    "    duplicate_count = df.duplicated().sum()\n",
    "    total_count = len(df)\n",
    "    return (total_count - duplicate_count) / total_count\n",
    "\n",
    "# Hàm đánh giá tính kịp thời (Timeliness)\n",
    "def check_timeliness(row, current_year):\n",
    "    try:\n",
    "        # Giả sử dữ liệu cập nhật mỗi năm\n",
    "        if row['namhoc'] <= current_year:\n",
    "            return 1\n",
    "        else:\n",
    "            return 0\n",
    "    except:\n",
    "        return 0\n",
    "\n",
    "# Hàm đánh giá tính nhất quán (Consistency)\n",
    "def check_consistency(row):\n",
    "    try:\n",
    "        # Kiểm tra điểm trong khoảng 0-10\n",
    "        if 0 <= row['diem_hp'] <= 10:\n",
    "            return 1\n",
    "        else:\n",
    "            return 0\n",
    "    except:\n",
    "        return 0\n",
    "    \n",
    "# Hàm đánh giá tính đầy đủ (Completeness)\n",
    "def check_completeness(row):\n",
    "    required_columns = ['masv', 'mamh', 'hocky','namhoc', 'diem_hp']\n",
    "    missing_count = row[required_columns].isna().sum()\n",
    "    return 1 if missing_count == 0 else 0\n",
    "\n",
    "# Hàm đánh giá tính hợp lệ (Validity)\n",
    "def check_validity(row):\n",
    "    try:\n",
    "        # Kiểm tra điểm trong khoảng 0-10\n",
    "        if 0 <= row['diem_hp'] <= 10:\n",
    "            return 1\n",
    "        else:\n",
    "            return 0\n",
    "    except:\n",
    "        return 0"
   ]
  },
  {
   "cell_type": "markdown",
   "metadata": {},
   "source": [
    "## CONNECT TO DATASET: DIEM_THU.XLSX"
   ]
  },
  {
   "cell_type": "code",
   "execution_count": 4,
   "metadata": {},
   "outputs": [],
   "source": [
    "# Loading the New Customer Data from the excel file\n",
    "df = pd.read_excel('data/diem_Thu.xlsx')"
   ]
  },
  {
   "cell_type": "code",
   "execution_count": 5,
   "metadata": {},
   "outputs": [
    {
     "data": {
      "text/html": [
       "<div>\n",
       "<style scoped>\n",
       "    .dataframe tbody tr th:only-of-type {\n",
       "        vertical-align: middle;\n",
       "    }\n",
       "\n",
       "    .dataframe tbody tr th {\n",
       "        vertical-align: top;\n",
       "    }\n",
       "\n",
       "    .dataframe thead th {\n",
       "        text-align: right;\n",
       "    }\n",
       "</style>\n",
       "<table border=\"1\" class=\"dataframe\">\n",
       "  <thead>\n",
       "    <tr style=\"text-align: right;\">\n",
       "      <th></th>\n",
       "      <th>masv</th>\n",
       "      <th>mamh</th>\n",
       "      <th>malop</th>\n",
       "      <th>sotc</th>\n",
       "      <th>magv</th>\n",
       "      <th>hocky</th>\n",
       "      <th>namhoc</th>\n",
       "      <th>diem_qt</th>\n",
       "      <th>diem_th</th>\n",
       "      <th>diem_gk</th>\n",
       "      <th>diem_ck</th>\n",
       "      <th>diem_hp</th>\n",
       "      <th>trangthai</th>\n",
       "      <th>tinhtrang</th>\n",
       "      <th>mamh_tt</th>\n",
       "    </tr>\n",
       "  </thead>\n",
       "  <tbody>\n",
       "    <tr>\n",
       "      <th>0</th>\n",
       "      <td>6520001</td>\n",
       "      <td>CARC1</td>\n",
       "      <td>K1C1_2</td>\n",
       "      <td>3</td>\n",
       "      <td>NaN</td>\n",
       "      <td>1</td>\n",
       "      <td>2006</td>\n",
       "      <td>NaN</td>\n",
       "      <td>NaN</td>\n",
       "      <td>NaN</td>\n",
       "      <td>NaN</td>\n",
       "      <td>2.0</td>\n",
       "      <td>2</td>\n",
       "      <td>0</td>\n",
       "      <td>NaN</td>\n",
       "    </tr>\n",
       "    <tr>\n",
       "      <th>1</th>\n",
       "      <td>6520001</td>\n",
       "      <td>CSC21</td>\n",
       "      <td>K1C1_2</td>\n",
       "      <td>5</td>\n",
       "      <td>NaN</td>\n",
       "      <td>1</td>\n",
       "      <td>2006</td>\n",
       "      <td>NaN</td>\n",
       "      <td>NaN</td>\n",
       "      <td>NaN</td>\n",
       "      <td>NaN</td>\n",
       "      <td>5.0</td>\n",
       "      <td>1</td>\n",
       "      <td>0</td>\n",
       "      <td>NaN</td>\n",
       "    </tr>\n",
       "    <tr>\n",
       "      <th>2</th>\n",
       "      <td>6520001</td>\n",
       "      <td>ENG02</td>\n",
       "      <td>K1C1_2</td>\n",
       "      <td>0</td>\n",
       "      <td>NaN</td>\n",
       "      <td>1</td>\n",
       "      <td>2006</td>\n",
       "      <td>NaN</td>\n",
       "      <td>NaN</td>\n",
       "      <td>NaN</td>\n",
       "      <td>NaN</td>\n",
       "      <td>5.5</td>\n",
       "      <td>1</td>\n",
       "      <td>0</td>\n",
       "      <td>NaN</td>\n",
       "    </tr>\n",
       "    <tr>\n",
       "      <th>3</th>\n",
       "      <td>6520001</td>\n",
       "      <td>MAT21</td>\n",
       "      <td>K1C1_2</td>\n",
       "      <td>4</td>\n",
       "      <td>NaN</td>\n",
       "      <td>1</td>\n",
       "      <td>2006</td>\n",
       "      <td>NaN</td>\n",
       "      <td>NaN</td>\n",
       "      <td>NaN</td>\n",
       "      <td>NaN</td>\n",
       "      <td>6.5</td>\n",
       "      <td>1</td>\n",
       "      <td>0</td>\n",
       "      <td>NaN</td>\n",
       "    </tr>\n",
       "    <tr>\n",
       "      <th>4</th>\n",
       "      <td>6520001</td>\n",
       "      <td>PEDU1</td>\n",
       "      <td>K1C1_2</td>\n",
       "      <td>0</td>\n",
       "      <td>NaN</td>\n",
       "      <td>1</td>\n",
       "      <td>2006</td>\n",
       "      <td>NaN</td>\n",
       "      <td>NaN</td>\n",
       "      <td>NaN</td>\n",
       "      <td>NaN</td>\n",
       "      <td>7.0</td>\n",
       "      <td>1</td>\n",
       "      <td>0</td>\n",
       "      <td>NaN</td>\n",
       "    </tr>\n",
       "  </tbody>\n",
       "</table>\n",
       "</div>"
      ],
      "text/plain": [
       "      masv   mamh   malop  sotc magv  hocky  namhoc  diem_qt  diem_th  \\\n",
       "0  6520001  CARC1  K1C1_2     3  NaN      1    2006      NaN      NaN   \n",
       "1  6520001  CSC21  K1C1_2     5  NaN      1    2006      NaN      NaN   \n",
       "2  6520001  ENG02  K1C1_2     0  NaN      1    2006      NaN      NaN   \n",
       "3  6520001  MAT21  K1C1_2     4  NaN      1    2006      NaN      NaN   \n",
       "4  6520001  PEDU1  K1C1_2     0  NaN      1    2006      NaN      NaN   \n",
       "\n",
       "   diem_gk  diem_ck  diem_hp  trangthai  tinhtrang mamh_tt  \n",
       "0      NaN      NaN      2.0          2          0     NaN  \n",
       "1      NaN      NaN      5.0          1          0     NaN  \n",
       "2      NaN      NaN      5.5          1          0     NaN  \n",
       "3      NaN      NaN      6.5          1          0     NaN  \n",
       "4      NaN      NaN      7.0          1          0     NaN  "
      ]
     },
     "execution_count": 5,
     "metadata": {},
     "output_type": "execute_result"
    }
   ],
   "source": [
    "# Checking first 5 records from Data\n",
    "df.head(5)"
   ]
  },
  {
   "cell_type": "code",
   "execution_count": 6,
   "metadata": {},
   "outputs": [
    {
     "name": "stdout",
     "output_type": "stream",
     "text": [
      "<class 'pandas.core.frame.DataFrame'>\n",
      "RangeIndex: 674273 entries, 0 to 674272\n",
      "Data columns (total 15 columns):\n",
      " #   Column     Non-Null Count   Dtype  \n",
      "---  ------     --------------   -----  \n",
      " 0   masv       674273 non-null  int64  \n",
      " 1   mamh       674273 non-null  object \n",
      " 2   malop      674258 non-null  object \n",
      " 3   sotc       674273 non-null  int64  \n",
      " 4   magv       485337 non-null  object \n",
      " 5   hocky      674273 non-null  int64  \n",
      " 6   namhoc     674273 non-null  int64  \n",
      " 7   diem_qt    297601 non-null  float64\n",
      " 8   diem_th    238559 non-null  float64\n",
      " 9   diem_gk    303975 non-null  float64\n",
      " 10  diem_ck    513427 non-null  float64\n",
      " 11  diem_hp    673659 non-null  float64\n",
      " 12  trangthai  674273 non-null  int64  \n",
      " 13  tinhtrang  674273 non-null  int64  \n",
      " 14  mamh_tt    2741 non-null    object \n",
      "dtypes: float64(5), int64(6), object(4)\n",
      "memory usage: 77.2+ MB\n"
     ]
    }
   ],
   "source": [
    "df.info()"
   ]
  },
  {
   "cell_type": "markdown",
   "metadata": {},
   "source": [
    "Total Records"
   ]
  },
  {
   "cell_type": "code",
   "execution_count": 7,
   "metadata": {},
   "outputs": [
    {
     "name": "stdout",
     "output_type": "stream",
     "text": [
      "Total records (rows) in the dataset : 674273\n",
      "Total columns (features) in the dataset : 15\n"
     ]
    }
   ],
   "source": [
    "print(\"Total records (rows) in the dataset : {}\".format(df.shape[0]))\n",
    "print(\"Total columns (features) in the dataset : {}\".format(df.shape[1]))"
   ]
  },
  {
   "cell_type": "markdown",
   "metadata": {},
   "source": [
    "# EXPLORE DATA ANALYTICS"
   ]
  },
  {
   "cell_type": "markdown",
   "metadata": {},
   "source": [
    "1 Missing Values Check:"
   ]
  },
  {
   "cell_type": "code",
   "execution_count": 8,
   "metadata": {},
   "outputs": [
    {
     "data": {
      "text/plain": [
       "masv              0\n",
       "mamh              0\n",
       "malop            15\n",
       "sotc              0\n",
       "magv         188936\n",
       "hocky             0\n",
       "namhoc            0\n",
       "diem_qt      376672\n",
       "diem_th      435714\n",
       "diem_gk      370298\n",
       "diem_ck      160846\n",
       "diem_hp         614\n",
       "trangthai         0\n",
       "tinhtrang         0\n",
       "mamh_tt      671532\n",
       "dtype: int64"
      ]
     },
     "execution_count": 8,
     "metadata": {},
     "output_type": "execute_result"
    }
   ],
   "source": [
    "df.isnull().sum()"
   ]
  },
  {
   "cell_type": "code",
   "execution_count": 9,
   "metadata": {},
   "outputs": [
    {
     "data": {
      "text/plain": [
       "masv          0.000000\n",
       "mamh          0.000000\n",
       "malop         0.002225\n",
       "sotc          0.000000\n",
       "magv         28.020698\n",
       "hocky         0.000000\n",
       "namhoc        0.000000\n",
       "diem_qt      55.863426\n",
       "diem_th      64.619820\n",
       "diem_gk      54.918112\n",
       "diem_ck      23.854729\n",
       "diem_hp       0.091061\n",
       "trangthai     0.000000\n",
       "tinhtrang     0.000000\n",
       "mamh_tt      99.593488\n",
       "dtype: float64"
      ]
     },
     "execution_count": 9,
     "metadata": {},
     "output_type": "execute_result"
    }
   ],
   "source": [
    "# Percentage of missing values\n",
    "df.isnull().mean()*100"
   ]
  },
  {
   "cell_type": "markdown",
   "metadata": {},
   "source": [
    "1.1 malop"
   ]
  },
  {
   "cell_type": "code",
   "execution_count": 10,
   "metadata": {},
   "outputs": [],
   "source": [
    "# Phân tích thống kê\n",
    "summary_stats = df.describe()\n",
    "missing_values = df.isnull().sum()"
   ]
  },
  {
   "cell_type": "code",
   "execution_count": 11,
   "metadata": {},
   "outputs": [
    {
     "data": {
      "text/plain": [
       "array([nan, 'NT113', 'CE115', 'IS202', 'CS108', 'SE104', 'CS109', 'ENG13',\n",
       "       'ENG11', 'PHIL1', 'STAT11', 'MAT11', 'OOPT1', 'DSAL1', 'NT304',\n",
       "       'PH001', 'MAT02', 'ENG01', 'SS001', 'ENG12', 'CSC12', 'PEDU2',\n",
       "       'IT003', 'MA003', 'ENG03', 'CS104', 'CS102', 'CNET1', 'CS101',\n",
       "       'CS322', 'CS103', 'NT101', 'CARC1', 'CSC01', 'DBSS1', 'IS204',\n",
       "       'MAT04', 'LIA01', 'MAT01', 'STA01', 'ENG02', 'LIA11', 'PEDU1',\n",
       "       'OSYS1', 'WINP1', 'ITEW1', 'IS103', 'IS102', 'ENG15', 'IS4263',\n",
       "       'VCPL1', 'HCMT1', 'IT008', 'NT110', 'PHY01', 'IS104', 'IS206',\n",
       "       'CE102', 'PHY02', 'IS501', 'CE202', 'SE212', 'SE341', 'SE311',\n",
       "       'SE213', 'IS107', 'IS311', 'IS106', 'SE210', 'CS217', 'CE106',\n",
       "       'CE109', 'PE001', 'SE103', 'NT301', 'IS205', 'SE209', 'NT202',\n",
       "       'NT201', 'SE207', 'CE113', 'NT102', 'CE302', 'CE110', 'NT305',\n",
       "       'SE322', 'NT321', 'NT302', 'SE321', 'SE211', 'SE208', 'NT203',\n",
       "       'SE417', 'SE418', 'NT108', 'CE116', 'CE112', 'SS005', 'EN005',\n",
       "       'NT107', 'NT403', 'EN003', 'EN002', 'NT116', 'SE107', 'SE337',\n",
       "       'NT501', 'CS105', 'SE312', 'NT112', 'NT307', 'NT502', 'NT103',\n",
       "       'CE219', 'NT503', 'NT504', 'IS212', 'PH003', 'MA001', 'IS253',\n",
       "       'MA002', 'CE101', 'EN006', 'EN004', 'CS3363', 'IT006', 'CE104',\n",
       "       'CS4793', 'IE209', 'NT130', 'CS3373', 'SS002', 'SE111', 'CS110',\n",
       "       'IT012', 'CE107', 'EC212', 'NT115', 'IT009', 'CE221', 'SE108',\n",
       "       'SE112', 'EC203', 'PE002', 'EC202'], dtype=object)"
      ]
     },
     "execution_count": 11,
     "metadata": {},
     "output_type": "execute_result"
    }
   ],
   "source": [
    "df.mamh_tt.unique()"
   ]
  },
  {
   "cell_type": "code",
   "execution_count": 12,
   "metadata": {},
   "outputs": [
    {
     "name": "stdout",
     "output_type": "stream",
     "text": [
      "Tỉ lệ dữ liệu thiếu của toàn bộ DataFrame: 21.80%\n",
      "Completeness: 78.20%\n"
     ]
    }
   ],
   "source": [
    "# Tính tỷ lệ dữ liệu thiếu của toàn bộ DataFrame\n",
    "missing_data_ratio = df.isna().sum().sum() / (df.shape[0] * df.shape[1]) * 100\n",
    "print(\"Tỉ lệ dữ liệu thiếu của toàn bộ DataFrame: {:.2f}%\".format(missing_data_ratio))\n",
    "completeness_score = 100 - missing_data_ratio\n",
    "print(\"Completeness: {:.2f}%\".format(100 - missing_data_ratio))"
   ]
  },
  {
   "cell_type": "code",
   "execution_count": 13,
   "metadata": {},
   "outputs": [],
   "source": [
    "# Tạo DataFrame với các dimension và điểm tương ứng\n",
    "data = {\n",
    "  'Total Rows': [df.shape[0]],\n",
    "  'Total Features': [df.shape[1]],\n",
    "  'Completeness': [completeness_score],\n",
    "  'Consitency': [90],\n",
    "  'Validity': [90],\n",
    "  'Uniqueness': [90]\n",
    "}\n",
    "\n",
    "# Tạo DataFrame từ dữ liệu\n",
    "df_scores = pd.DataFrame(data)"
   ]
  },
  {
   "cell_type": "code",
   "execution_count": 14,
   "metadata": {},
   "outputs": [],
   "source": [
    "df_scores.to_csv('report/diem_DQ.csv', index = False)"
   ]
  },
  {
   "cell_type": "markdown",
   "metadata": {},
   "source": [
    "## Data Quality Assessment"
   ]
  },
  {
   "cell_type": "code",
   "execution_count": 20,
   "metadata": {},
   "outputs": [],
   "source": [
    "# current_year là năm hiện tại\n",
    "current_year = 2023\n",
    "\n",
    "# Áp dụng các hàm đánh giá cho từng dòng\n",
    "df['completeness'] = df.apply(check_completeness, axis=1)\n",
    "df['consistency'] = df.apply(check_consistency, axis=1)\n",
    "df['timeliness'] = df.apply(check_timeliness, axis=1, current_year=current_year)\n",
    "df['validity'] = df.apply(check_validity, axis=1)"
   ]
  },
  {
   "cell_type": "code",
   "execution_count": 25,
   "metadata": {},
   "outputs": [],
   "source": [
    "# Tính điểm trung bình cho từng dimension\n",
    "completeness_score = df['completeness'].mean()\n",
    "consistency_score = df['consistency'].mean()\n",
    "timeliness_score = df['timeliness'].mean()\n",
    "validity_score = df['validity'].mean()\n",
    "uniqueness_score = check_uniqueness(df)"
   ]
  },
  {
   "cell_type": "code",
   "execution_count": 31,
   "metadata": {},
   "outputs": [
    {
     "name": "stdout",
     "output_type": "stream",
     "text": [
      "   Total Rows  Total Features  Completeness  Consitency  Validity  Uniqueness  \\\n",
      "0      674273              19      0.999089     0.99908   0.99908         1.0   \n",
      "\n",
      "   Timeliness  \n",
      "0         1.0  \n"
     ]
    }
   ],
   "source": [
    "# Lưu kết quả vào DataFrame mới\n",
    "# quality_scores = pd.DataFrame({\n",
    "#     'dimension': ['completeness', 'consistency', 'timeliness', 'validity', 'uniqueness'],\n",
    "#     'score': [completeness_score, consistency_score, timeliness_score, validity_score, uniqueness_score]\n",
    "# })\n",
    "\n",
    "quality_scores = pd.DataFrame({\n",
    "  'Total Rows': [df.shape[0]],\n",
    "  'Total Features': [df.shape[1]],\n",
    "  'Completeness': [completeness_score],\n",
    "  'Consitency': [consistency_score],\n",
    "  'Validity': [validity_score],\n",
    "  'Uniqueness': [uniqueness_score],\n",
    "  'Timeliness': [timeliness_score]\n",
    "})\n",
    "\n",
    "print(quality_scores)"
   ]
  },
  {
   "cell_type": "code",
   "execution_count": 32,
   "metadata": {},
   "outputs": [],
   "source": [
    "# Lưu kết quả vào file CSV\n",
    "quality_scores.to_csv('report/diem_DQ.csv', index=False)"
   ]
  }
 ],
 "metadata": {
  "kernelspec": {
   "display_name": "Python 3",
   "language": "python",
   "name": "python3"
  },
  "language_info": {
   "codemirror_mode": {
    "name": "ipython",
    "version": 3
   },
   "file_extension": ".py",
   "mimetype": "text/x-python",
   "name": "python",
   "nbconvert_exporter": "python",
   "pygments_lexer": "ipython3",
   "version": "3.12.0"
  }
 },
 "nbformat": 4,
 "nbformat_minor": 2
}
